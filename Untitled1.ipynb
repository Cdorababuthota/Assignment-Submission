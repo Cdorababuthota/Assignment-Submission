{
  "nbformat": 4,
  "nbformat_minor": 0,
  "metadata": {
    "colab": {
      "provenance": []
    },
    "kernelspec": {
      "name": "python3",
      "display_name": "Python 3"
    },
    "language_info": {
      "name": "python"
    }
  },
  "cells": [
    {
      "cell_type": "code",
      "source": [
        "import pandas as pd\n",
        "import plotly.express as px\n",
        "import plotly.graph_objects as go\n",
        "from plotly.subplots import make_subplots\n",
        "\n",
        "# Load the NASA Battery Dataset (Replace this with the correct path or download link)\n",
        "url = \"https://www.kaggle.com/datasets/patrickfleith/nasa-battery-dataset/download?version=1\"\n",
        "df = pd.read_csv(\"/content/07509.csv\")\n",
        "\n",
        "# Print column names to inspect the dataset\n",
        "print(\"Columns in the dataset:\", df.columns)\n",
        "\n",
        "# Define columns to plot\n",
        "plot_cols = [\"Cycle\", \"Battery_Impedance\"]\n",
        "additional_columns = []\n",
        "\n",
        "# Check for additional columns (if present)\n",
        "if \"Estimated_Electrolyte_Resistance\" in df.columns:\n",
        "    additional_columns.append(\"Estimated_Electrolyte_Resistance\")\n",
        "if \"Rct_Charge_Transfer_Resistance\" in df.columns:\n",
        "    additional_columns.append(\"Rct_Charge_Transfer_Resistance\")\n",
        "\n",
        "# Add additional columns to the plot list\n",
        "plot_cols.extend(additional_columns)\n",
        "\n",
        "# Create a plot dataframe\n",
        "try:\n",
        "    plot_df = df[plot_cols]\n",
        "    print(\"Dataframe for plotting:\", plot_df.head())  # Check the first few rows to confirm\n",
        "except KeyError as e:\n",
        "    print(f\"KeyError: The following columns are missing: {e}\")\n",
        "    plot_df = None\n",
        "\n",
        "# Proceed with plotting if plot_df is defined\n",
        "if plot_df is not None:\n",
        "    # Check if DataFrame is empty\n",
        "    if plot_df.empty:\n",
        "        print(\"No data available in the plot DataFrame.\")\n",
        "    else:\n",
        "        # Create a subplot with 3 rows (one for each of the metrics)\n",
        "        fig = make_subplots(rows=3, cols=1, shared_xaxes=True,\n",
        "                            subplot_titles=[\"Battery Impedance vs. Cycle\",\n",
        "                                            \"Estimated Electrolyte Resistance vs. Cycle\",\n",
        "                                            \"Rct (Charge Transfer Resistance) vs. Cycle\"])\n",
        "\n",
        "        # Create a plot for Battery Impedance and add it to the subplot\n",
        "        fig_impedance = px.line(\n",
        "            data_frame=plot_df,  # Explicitly pass the DataFrame\n",
        "            x=\"Cycle\",\n",
        "            y=\"Battery_Impedance\",\n",
        "            title=\"Battery Impedance vs. Cycle\",\n",
        "            hover_data=[\"Cycle\", \"Battery_Impedance\"]\n",
        "        )\n",
        "        fig.add_trace(fig_impedance.data[0], row=1, col=1)\n",
        "\n",
        "        # Plot Estimated Electrolyte Resistance if available\n",
        "        if \"Estimated_Electrolyte_Resistance\" in plot_df.columns:\n",
        "            fig_electrolyte_resistance = px.line(\n",
        "                data_frame=plot_df,\n",
        "                x=\"Cycle\",\n",
        "                y=\"Estimated_Electrolyte_Resistance\",\n",
        "                title=\"Estimated Electrolyte Resistance vs. Cycle\",\n",
        "                hover_data=[\"Cycle\", \"Estimated_Electrolyte_Resistance\"]\n",
        "            )\n",
        "            fig.add_trace(fig_electrolyte_resistance.data[0], row=2, col=1)\n",
        "\n",
        "        # Plot Rct Charge Transfer Resistance if available\n",
        "        if \"Rct_Charge_Transfer_Resistance\" in plot_df.columns:\n",
        "            fig_charge_transfer_resistance = px.line(\n",
        "                data_frame=plot_df,\n",
        "                x=\"Cycle\",\n",
        "                y=\"Rct_Charge_Transfer_Resistance\",\n",
        "                title=\"Rct (Charge Transfer Resistance) vs. Cycle\",\n",
        "                hover_data=[\"Cycle\", \"Rct_Charge_Transfer_Resistance\"]\n",
        "            )\n",
        "            fig.add_trace(fig_charge_transfer_resistance.data[0], row=3, col=1)\n",
        "\n",
        "        # Update the x-axis title for all subplots\n",
        "        fig.update_xaxes(title_text=\"Cycle Number\")\n",
        "\n",
        "        # Update the layout for the entire figure\n",
        "        fig.update_layout(title_text=\"Battery Parameter Changes with Cycling\",\n",
        "                          height=900,  # Adjust the figure height as needed\n",
        "                          showlegend=False)  # Hide legend if necessary\n",
        "\n",
        "        # Display the figure\n",
        "        fig.show()\n"
      ],
      "metadata": {
        "colab": {
          "base_uri": "https://localhost:8080/"
        },
        "id": "aWBfqlaHeF0v",
        "outputId": "74ccf4d3-095d-4fce-b0bb-68096d58267a"
      },
      "execution_count": null,
      "outputs": [
        {
          "output_type": "stream",
          "name": "stdout",
          "text": [
            "Columns in the dataset: Index(['Sense_current', 'Battery_current', 'Current_ratio',\n",
            "       'Battery_impedance', 'Rectified_Impedance'],\n",
            "      dtype='object')\n",
            "KeyError: The following columns are missing: \"None of [Index(['Cycle', 'Battery_Impedance'], dtype='object')] are in the [columns]\"\n"
          ]
        }
      ]
    },
    {
      "cell_type": "code",
      "source": [
        "import plotly.graph_objects as go\n",
        "from plotly.subplots import make_subplots\n",
        "\n",
        "# Check if the required columns exist in the dataset\n",
        "required_columns = ['Cycle', 'Battery_Impedance', 'Estimated_Electrolyte_Resistance', 'Rct_Charge_Transfer_Resistance']\n",
        "\n",
        "# Check if these columns are available in the DataFrame\n",
        "missing_columns = [col for col in required_columns if col not in df.columns]\n",
        "\n",
        "if missing_columns:\n",
        "    print(f\"Missing columns: {missing_columns}\")\n",
        "else:\n",
        "    # Proceed with the plotting if all required columns are present\n",
        "    plot_df = df[required_columns]  # Ensure that we select the required columns\n",
        "\n",
        "    # Create subplots\n",
        "    fig = make_subplots(rows=3, cols=1, shared_xaxes=True,\n",
        "                        subplot_titles=[\"Battery Impedance vs. Cycle\",\n",
        "                                        \"Estimated Electrolyte Resistance vs. Cycle\",\n",
        "                                        \"Rct (Charge Transfer Resistance) vs. Cycle\"])\n",
        "\n",
        "    # Plot Battery Impedance vs. Cycle\n",
        "    fig.add_trace(go.Scatter(x=plot_df['Cycle'], y=plot_df['Battery_Impedance'],\n",
        "                             mode='lines', name='Battery Impedance'),\n",
        "                  row=1, col=1)\n",
        "\n",
        "    # Plot Estimated Electrolyte Resistance vs. Cycle\n",
        "    if \"Estimated_Electrolyte_Resistance\" in plot_df.columns:\n",
        "        fig.add_trace(go.Scatter(x=plot_df['Cycle'], y=plot_df['Estimated_Electrolyte_Resistance'],\n",
        "                                 mode='lines', name='Electrolyte Resistance'),\n",
        "                      row=2, col=1)\n",
        "\n",
        "    # Plot Estimated Charge Transfer Resistance vs. Cycle\n",
        "    if \"Rct_Charge_Transfer_Resistance\" in plot_df.columns:\n",
        "        fig.add_trace(go.Scatter(x=plot_df['Cycle'], y=plot_df['Rct_Charge_Transfer_Resistance'],\n",
        "                                 mode='lines', name='Charge Transfer Resistance'),\n",
        "                      row=3, col=1)\n",
        "\n",
        "    # Update layout with titles and labels\n",
        "    fig.update_layout(title_text=\"Battery Aging Analysis: Parameter Changes with Cycles\",\n",
        "                      height=900, showlegend=True)\n",
        "\n",
        "    # Update x-axis labels\n",
        "    fig.update_xaxes(title_text=\"Cycle Number\")\n",
        "\n",
        "    # Display the plot\n",
        "    fig.show()\n"
      ],
      "metadata": {
        "colab": {
          "base_uri": "https://localhost:8080/"
        },
        "id": "MKa2RZ_7f5wI",
        "outputId": "cd9876ee-e9ec-43fe-cc45-f718358641a7"
      },
      "execution_count": null,
      "outputs": [
        {
          "output_type": "stream",
          "name": "stdout",
          "text": [
            "Missing columns: ['Cycle', 'Battery_Impedance', 'Estimated_Electrolyte_Resistance', 'Rct_Charge_Transfer_Resistance']\n"
          ]
        }
      ]
    },
    {
      "cell_type": "code",
      "source": [
        "import plotly.graph_objects as go\n",
        "from plotly.subplots import make_subplots\n",
        "\n",
        "# Assuming 'df' is your DataFrame containing the necessary columns\n",
        "# Ensure your dataset contains 'Cycle', 'Battery_Impedance', 'Estimated_Electrolyte_Resistance', and 'Rct_Charge_Transfer_Resistance'\n",
        "# Here we are checking if the required columns exist in the dataset\n",
        "\n",
        "required_columns = ['Cycle', 'Battery_Impedance', 'Estimated_Electrolyte_Resistance', 'Rct_Charge_Transfer_Resistance']\n",
        "\n",
        "# Check if all required columns are present\n",
        "missing_columns = [col for col in required_columns if col not in df.columns]\n",
        "if missing_columns:\n",
        "    print(f\"Missing columns: {missing_columns}\")\n",
        "else:\n",
        "    # Select relevant columns for plotting\n",
        "    plot_df = df[['Cycle', 'Battery_Impedance', 'Estimated_Electrolyte_Resistance', 'Rct_Charge_Transfer_Resistance']]\n",
        "\n",
        "    # Create subplots: 3 rows, 1 column, shared x-axis\n",
        "    fig = make_subplots(rows=3, cols=1, shared_xaxes=True,\n",
        "                        subplot_titles=[\"Battery Impedance vs. Cycle\",\n",
        "                                        \"Estimated Electrolyte Resistance vs. Cycle\",\n",
        "                                        \"Rct (Charge Transfer Resistance) vs. Cycle\"])\n",
        "\n",
        "    # Plot Battery Impedance vs. Cycle\n",
        "    fig.add_trace(go.Scatter(x=plot_df['Cycle'], y=plot_df['Battery_Impedance'],\n",
        "                             mode='lines', name='Battery Impedance'),\n",
        "                  row=1, col=1)\n",
        "\n",
        "    # Plot Estimated Electrolyte Resistance vs. Cycle\n",
        "    if 'Estimated_Electrolyte_Resistance' in plot_df.columns:\n",
        "        fig.add_trace(go.Scatter(x=plot_df['Cycle'], y=plot_df['Estimated_Electrolyte_Resistance'],\n",
        "                                 mode='lines', name='Electrolyte Resistance'),\n",
        "                      row=2, col=1)\n",
        "\n",
        "    # Plot Charge Transfer Resistance vs. Cycle\n",
        "    if 'Rct_Charge_Transfer_Resistance' in plot_df.columns:\n",
        "        fig.add_trace(go.Scatter(x=plot_df['Cycle'], y=plot_df['Rct_Charge_Transfer_Resistance'],\n",
        "                                 mode='lines', name='Charge Transfer Resistance'),\n",
        "                      row=3, col=1)\n",
        "\n",
        "    # Update layout\n",
        "    fig.update_layout(title_text=\"Battery Aging Analysis: Parameter Changes with Cycles\",\n",
        "                      height=900, showlegend=True)\n",
        "\n",
        "    # Update x-axis title\n",
        "    fig.update_xaxes(title_text=\"Cycle Number\")\n",
        "\n",
        "    # Display the plot\n",
        "    fig.show()"
      ],
      "metadata": {
        "colab": {
          "base_uri": "https://localhost:8080/"
        },
        "id": "jUXjpB5wga35",
        "outputId": "efad002f-73b2-4108-ce5f-09e82ea7bf09"
      },
      "execution_count": null,
      "outputs": [
        {
          "output_type": "stream",
          "name": "stdout",
          "text": [
            "Missing columns: ['Cycle', 'Battery_Impedance', 'Estimated_Electrolyte_Resistance', 'Rct_Charge_Transfer_Resistance']\n"
          ]
        }
      ]
    },
    {
      "cell_type": "code",
      "source": [
        "import plotly.graph_objects as go\n",
        "from plotly.subplots import make_subplots\n",
        "\n",
        "# Inspect the columns in the dataset\n",
        "print(\"Columns in the dataset:\", df.columns)\n",
        "\n",
        "# Select relevant columns for plotting\n",
        "available_columns = {\n",
        "    'Cycle': 'Cycle',\n",
        "    'Battery_Impedance': 'Battery_Impedance' if 'Battery_Impedance' in df.columns else None,\n",
        "    'Estimated_Electrolyte_Resistance': 'Estimated_Electrolyte_Resistance' if 'Estimated_Electrolyte_Resistance' in df.columns else None,\n",
        "    'Rct_Charge_Transfer_Resistance': 'Rct_Charge_Transfer_Resistance' if 'Rct_Charge_Transfer_Resistance' in df.columns else None\n",
        "}\n",
        "\n",
        "# Create subplots: 3 rows, 1 column, shared x-axis\n",
        "fig = make_subplots(rows=3, cols=1, shared_xaxes=True,\n",
        "                    subplot_titles=[\"Battery Impedance vs. Cycle\",\n",
        "                                    \"Estimated Electrolyte Resistance vs. Cycle\",\n",
        "                                    \"Rct (Charge Transfer Resistance) vs. Cycle\"])\n",
        "\n",
        "# Plot Battery Impedance if available\n",
        "if available_columns['Battery_Impedance']:\n",
        "    fig.add_trace(go.Scatter(x=df['Cycle'], y=df['Battery_Impedance'],\n",
        "                             mode='lines', name='Battery Impedance'),\n",
        "                  row=1, col=1)\n",
        "\n",
        "# Plot Estimated Electrolyte Resistance if available\n",
        "if available_columns['Estimated_Electrolyte_Resistance']:\n",
        "    fig.add_trace(go.Scatter(x=df['Cycle'], y=df['Estimated_Electrolyte_Resistance'],\n",
        "                             mode='lines', name='Electrolyte Resistance'),\n",
        "                  row=2, col=1)\n",
        "\n",
        "# Plot Charge Transfer Resistance if available\n",
        "if available_columns['Rct_Charge_Transfer_Resistance']:\n",
        "    fig.add_trace(go.Scatter(x=df['Cycle'], y=df['Rct_Charge_Transfer_Resistance'],\n",
        "                             mode='lines', name='Charge Transfer Resistance'),\n",
        "                  row=3, col=1)\n",
        "\n",
        "# Update layout\n",
        "fig.update_layout(title_text=\"Battery Aging Analysis: Parameter Changes with Cycles\",\n",
        "                  height=900, showlegend=True)\n",
        "\n",
        "# Update x-axis title\n",
        "fig.update_xaxes(title_text=\"Cycle Number\")\n",
        "\n",
        "# Display the plot\n",
        "fig.show()"
      ],
      "metadata": {
        "colab": {
          "base_uri": "https://localhost:8080/",
          "height": 969
        },
        "id": "yAEffe8Fga7K",
        "outputId": "47ca16c1-1069-489f-c945-b05f2b11c426"
      },
      "execution_count": null,
      "outputs": [
        {
          "output_type": "stream",
          "name": "stdout",
          "text": [
            "Columns in the dataset: Index(['Sense_current', 'Battery_current', 'Current_ratio',\n",
            "       'Battery_impedance', 'Rectified_Impedance'],\n",
            "      dtype='object')\n"
          ]
        },
        {
          "output_type": "display_data",
          "data": {
            "text/html": [
              "<html>\n",
              "<head><meta charset=\"utf-8\" /></head>\n",
              "<body>\n",
              "    <div>            <script src=\"https://cdnjs.cloudflare.com/ajax/libs/mathjax/2.7.5/MathJax.js?config=TeX-AMS-MML_SVG\"></script><script type=\"text/javascript\">if (window.MathJax && window.MathJax.Hub && window.MathJax.Hub.Config) {window.MathJax.Hub.Config({SVG: {font: \"STIX-Web\"}});}</script>                <script type=\"text/javascript\">window.PlotlyConfig = {MathJaxConfig: 'local'};</script>\n",
              "        <script charset=\"utf-8\" src=\"https://cdn.plot.ly/plotly-2.35.2.min.js\"></script>                <div id=\"db43db3b-2e75-4100-9cfa-ad36155b3688\" class=\"plotly-graph-div\" style=\"height:900px; width:100%;\"></div>            <script type=\"text/javascript\">                                    window.PLOTLYENV=window.PLOTLYENV || {};                                    if (document.getElementById(\"db43db3b-2e75-4100-9cfa-ad36155b3688\")) {                    Plotly.newPlot(                        \"db43db3b-2e75-4100-9cfa-ad36155b3688\",                        [],                        {\"template\":{\"data\":{\"histogram2dcontour\":[{\"type\":\"histogram2dcontour\",\"colorbar\":{\"outlinewidth\":0,\"ticks\":\"\"},\"colorscale\":[[0.0,\"#0d0887\"],[0.1111111111111111,\"#46039f\"],[0.2222222222222222,\"#7201a8\"],[0.3333333333333333,\"#9c179e\"],[0.4444444444444444,\"#bd3786\"],[0.5555555555555556,\"#d8576b\"],[0.6666666666666666,\"#ed7953\"],[0.7777777777777778,\"#fb9f3a\"],[0.8888888888888888,\"#fdca26\"],[1.0,\"#f0f921\"]]}],\"choropleth\":[{\"type\":\"choropleth\",\"colorbar\":{\"outlinewidth\":0,\"ticks\":\"\"}}],\"histogram2d\":[{\"type\":\"histogram2d\",\"colorbar\":{\"outlinewidth\":0,\"ticks\":\"\"},\"colorscale\":[[0.0,\"#0d0887\"],[0.1111111111111111,\"#46039f\"],[0.2222222222222222,\"#7201a8\"],[0.3333333333333333,\"#9c179e\"],[0.4444444444444444,\"#bd3786\"],[0.5555555555555556,\"#d8576b\"],[0.6666666666666666,\"#ed7953\"],[0.7777777777777778,\"#fb9f3a\"],[0.8888888888888888,\"#fdca26\"],[1.0,\"#f0f921\"]]}],\"heatmap\":[{\"type\":\"heatmap\",\"colorbar\":{\"outlinewidth\":0,\"ticks\":\"\"},\"colorscale\":[[0.0,\"#0d0887\"],[0.1111111111111111,\"#46039f\"],[0.2222222222222222,\"#7201a8\"],[0.3333333333333333,\"#9c179e\"],[0.4444444444444444,\"#bd3786\"],[0.5555555555555556,\"#d8576b\"],[0.6666666666666666,\"#ed7953\"],[0.7777777777777778,\"#fb9f3a\"],[0.8888888888888888,\"#fdca26\"],[1.0,\"#f0f921\"]]}],\"heatmapgl\":[{\"type\":\"heatmapgl\",\"colorbar\":{\"outlinewidth\":0,\"ticks\":\"\"},\"colorscale\":[[0.0,\"#0d0887\"],[0.1111111111111111,\"#46039f\"],[0.2222222222222222,\"#7201a8\"],[0.3333333333333333,\"#9c179e\"],[0.4444444444444444,\"#bd3786\"],[0.5555555555555556,\"#d8576b\"],[0.6666666666666666,\"#ed7953\"],[0.7777777777777778,\"#fb9f3a\"],[0.8888888888888888,\"#fdca26\"],[1.0,\"#f0f921\"]]}],\"contourcarpet\":[{\"type\":\"contourcarpet\",\"colorbar\":{\"outlinewidth\":0,\"ticks\":\"\"}}],\"contour\":[{\"type\":\"contour\",\"colorbar\":{\"outlinewidth\":0,\"ticks\":\"\"},\"colorscale\":[[0.0,\"#0d0887\"],[0.1111111111111111,\"#46039f\"],[0.2222222222222222,\"#7201a8\"],[0.3333333333333333,\"#9c179e\"],[0.4444444444444444,\"#bd3786\"],[0.5555555555555556,\"#d8576b\"],[0.6666666666666666,\"#ed7953\"],[0.7777777777777778,\"#fb9f3a\"],[0.8888888888888888,\"#fdca26\"],[1.0,\"#f0f921\"]]}],\"surface\":[{\"type\":\"surface\",\"colorbar\":{\"outlinewidth\":0,\"ticks\":\"\"},\"colorscale\":[[0.0,\"#0d0887\"],[0.1111111111111111,\"#46039f\"],[0.2222222222222222,\"#7201a8\"],[0.3333333333333333,\"#9c179e\"],[0.4444444444444444,\"#bd3786\"],[0.5555555555555556,\"#d8576b\"],[0.6666666666666666,\"#ed7953\"],[0.7777777777777778,\"#fb9f3a\"],[0.8888888888888888,\"#fdca26\"],[1.0,\"#f0f921\"]]}],\"mesh3d\":[{\"type\":\"mesh3d\",\"colorbar\":{\"outlinewidth\":0,\"ticks\":\"\"}}],\"scatter\":[{\"fillpattern\":{\"fillmode\":\"overlay\",\"size\":10,\"solidity\":0.2},\"type\":\"scatter\"}],\"parcoords\":[{\"type\":\"parcoords\",\"line\":{\"colorbar\":{\"outlinewidth\":0,\"ticks\":\"\"}}}],\"scatterpolargl\":[{\"type\":\"scatterpolargl\",\"marker\":{\"colorbar\":{\"outlinewidth\":0,\"ticks\":\"\"}}}],\"bar\":[{\"error_x\":{\"color\":\"#2a3f5f\"},\"error_y\":{\"color\":\"#2a3f5f\"},\"marker\":{\"line\":{\"color\":\"#E5ECF6\",\"width\":0.5},\"pattern\":{\"fillmode\":\"overlay\",\"size\":10,\"solidity\":0.2}},\"type\":\"bar\"}],\"scattergeo\":[{\"type\":\"scattergeo\",\"marker\":{\"colorbar\":{\"outlinewidth\":0,\"ticks\":\"\"}}}],\"scatterpolar\":[{\"type\":\"scatterpolar\",\"marker\":{\"colorbar\":{\"outlinewidth\":0,\"ticks\":\"\"}}}],\"histogram\":[{\"marker\":{\"pattern\":{\"fillmode\":\"overlay\",\"size\":10,\"solidity\":0.2}},\"type\":\"histogram\"}],\"scattergl\":[{\"type\":\"scattergl\",\"marker\":{\"colorbar\":{\"outlinewidth\":0,\"ticks\":\"\"}}}],\"scatter3d\":[{\"type\":\"scatter3d\",\"line\":{\"colorbar\":{\"outlinewidth\":0,\"ticks\":\"\"}},\"marker\":{\"colorbar\":{\"outlinewidth\":0,\"ticks\":\"\"}}}],\"scattermapbox\":[{\"type\":\"scattermapbox\",\"marker\":{\"colorbar\":{\"outlinewidth\":0,\"ticks\":\"\"}}}],\"scatterternary\":[{\"type\":\"scatterternary\",\"marker\":{\"colorbar\":{\"outlinewidth\":0,\"ticks\":\"\"}}}],\"scattercarpet\":[{\"type\":\"scattercarpet\",\"marker\":{\"colorbar\":{\"outlinewidth\":0,\"ticks\":\"\"}}}],\"carpet\":[{\"aaxis\":{\"endlinecolor\":\"#2a3f5f\",\"gridcolor\":\"white\",\"linecolor\":\"white\",\"minorgridcolor\":\"white\",\"startlinecolor\":\"#2a3f5f\"},\"baxis\":{\"endlinecolor\":\"#2a3f5f\",\"gridcolor\":\"white\",\"linecolor\":\"white\",\"minorgridcolor\":\"white\",\"startlinecolor\":\"#2a3f5f\"},\"type\":\"carpet\"}],\"table\":[{\"cells\":{\"fill\":{\"color\":\"#EBF0F8\"},\"line\":{\"color\":\"white\"}},\"header\":{\"fill\":{\"color\":\"#C8D4E3\"},\"line\":{\"color\":\"white\"}},\"type\":\"table\"}],\"barpolar\":[{\"marker\":{\"line\":{\"color\":\"#E5ECF6\",\"width\":0.5},\"pattern\":{\"fillmode\":\"overlay\",\"size\":10,\"solidity\":0.2}},\"type\":\"barpolar\"}],\"pie\":[{\"automargin\":true,\"type\":\"pie\"}]},\"layout\":{\"autotypenumbers\":\"strict\",\"colorway\":[\"#636efa\",\"#EF553B\",\"#00cc96\",\"#ab63fa\",\"#FFA15A\",\"#19d3f3\",\"#FF6692\",\"#B6E880\",\"#FF97FF\",\"#FECB52\"],\"font\":{\"color\":\"#2a3f5f\"},\"hovermode\":\"closest\",\"hoverlabel\":{\"align\":\"left\"},\"paper_bgcolor\":\"white\",\"plot_bgcolor\":\"#E5ECF6\",\"polar\":{\"bgcolor\":\"#E5ECF6\",\"angularaxis\":{\"gridcolor\":\"white\",\"linecolor\":\"white\",\"ticks\":\"\"},\"radialaxis\":{\"gridcolor\":\"white\",\"linecolor\":\"white\",\"ticks\":\"\"}},\"ternary\":{\"bgcolor\":\"#E5ECF6\",\"aaxis\":{\"gridcolor\":\"white\",\"linecolor\":\"white\",\"ticks\":\"\"},\"baxis\":{\"gridcolor\":\"white\",\"linecolor\":\"white\",\"ticks\":\"\"},\"caxis\":{\"gridcolor\":\"white\",\"linecolor\":\"white\",\"ticks\":\"\"}},\"coloraxis\":{\"colorbar\":{\"outlinewidth\":0,\"ticks\":\"\"}},\"colorscale\":{\"sequential\":[[0.0,\"#0d0887\"],[0.1111111111111111,\"#46039f\"],[0.2222222222222222,\"#7201a8\"],[0.3333333333333333,\"#9c179e\"],[0.4444444444444444,\"#bd3786\"],[0.5555555555555556,\"#d8576b\"],[0.6666666666666666,\"#ed7953\"],[0.7777777777777778,\"#fb9f3a\"],[0.8888888888888888,\"#fdca26\"],[1.0,\"#f0f921\"]],\"sequentialminus\":[[0.0,\"#0d0887\"],[0.1111111111111111,\"#46039f\"],[0.2222222222222222,\"#7201a8\"],[0.3333333333333333,\"#9c179e\"],[0.4444444444444444,\"#bd3786\"],[0.5555555555555556,\"#d8576b\"],[0.6666666666666666,\"#ed7953\"],[0.7777777777777778,\"#fb9f3a\"],[0.8888888888888888,\"#fdca26\"],[1.0,\"#f0f921\"]],\"diverging\":[[0,\"#8e0152\"],[0.1,\"#c51b7d\"],[0.2,\"#de77ae\"],[0.3,\"#f1b6da\"],[0.4,\"#fde0ef\"],[0.5,\"#f7f7f7\"],[0.6,\"#e6f5d0\"],[0.7,\"#b8e186\"],[0.8,\"#7fbc41\"],[0.9,\"#4d9221\"],[1,\"#276419\"]]},\"xaxis\":{\"gridcolor\":\"white\",\"linecolor\":\"white\",\"ticks\":\"\",\"title\":{\"standoff\":15},\"zerolinecolor\":\"white\",\"automargin\":true,\"zerolinewidth\":2},\"yaxis\":{\"gridcolor\":\"white\",\"linecolor\":\"white\",\"ticks\":\"\",\"title\":{\"standoff\":15},\"zerolinecolor\":\"white\",\"automargin\":true,\"zerolinewidth\":2},\"scene\":{\"xaxis\":{\"backgroundcolor\":\"#E5ECF6\",\"gridcolor\":\"white\",\"linecolor\":\"white\",\"showbackground\":true,\"ticks\":\"\",\"zerolinecolor\":\"white\",\"gridwidth\":2},\"yaxis\":{\"backgroundcolor\":\"#E5ECF6\",\"gridcolor\":\"white\",\"linecolor\":\"white\",\"showbackground\":true,\"ticks\":\"\",\"zerolinecolor\":\"white\",\"gridwidth\":2},\"zaxis\":{\"backgroundcolor\":\"#E5ECF6\",\"gridcolor\":\"white\",\"linecolor\":\"white\",\"showbackground\":true,\"ticks\":\"\",\"zerolinecolor\":\"white\",\"gridwidth\":2}},\"shapedefaults\":{\"line\":{\"color\":\"#2a3f5f\"}},\"annotationdefaults\":{\"arrowcolor\":\"#2a3f5f\",\"arrowhead\":0,\"arrowwidth\":1},\"geo\":{\"bgcolor\":\"white\",\"landcolor\":\"#E5ECF6\",\"subunitcolor\":\"white\",\"showland\":true,\"showlakes\":true,\"lakecolor\":\"white\"},\"title\":{\"x\":0.05},\"mapbox\":{\"style\":\"light\"}}},\"xaxis\":{\"anchor\":\"y\",\"domain\":[0.0,1.0],\"matches\":\"x3\",\"showticklabels\":false,\"title\":{\"text\":\"Cycle Number\"}},\"yaxis\":{\"anchor\":\"x\",\"domain\":[0.7777777777777778,1.0]},\"xaxis2\":{\"anchor\":\"y2\",\"domain\":[0.0,1.0],\"matches\":\"x3\",\"showticklabels\":false,\"title\":{\"text\":\"Cycle Number\"}},\"yaxis2\":{\"anchor\":\"x2\",\"domain\":[0.3888888888888889,0.6111111111111112]},\"xaxis3\":{\"anchor\":\"y3\",\"domain\":[0.0,1.0],\"title\":{\"text\":\"Cycle Number\"}},\"yaxis3\":{\"anchor\":\"x3\",\"domain\":[0.0,0.22222222222222224]},\"annotations\":[{\"font\":{\"size\":16},\"showarrow\":false,\"text\":\"Battery Impedance vs. Cycle\",\"x\":0.5,\"xanchor\":\"center\",\"xref\":\"paper\",\"y\":1.0,\"yanchor\":\"bottom\",\"yref\":\"paper\"},{\"font\":{\"size\":16},\"showarrow\":false,\"text\":\"Estimated Electrolyte Resistance vs. Cycle\",\"x\":0.5,\"xanchor\":\"center\",\"xref\":\"paper\",\"y\":0.6111111111111112,\"yanchor\":\"bottom\",\"yref\":\"paper\"},{\"font\":{\"size\":16},\"showarrow\":false,\"text\":\"Rct (Charge Transfer Resistance) vs. Cycle\",\"x\":0.5,\"xanchor\":\"center\",\"xref\":\"paper\",\"y\":0.22222222222222224,\"yanchor\":\"bottom\",\"yref\":\"paper\"}],\"title\":{\"text\":\"Battery Aging Analysis: Parameter Changes with Cycles\"},\"height\":900,\"showlegend\":true},                        {\"responsive\": true}                    ).then(function(){\n",
              "                            \n",
              "var gd = document.getElementById('db43db3b-2e75-4100-9cfa-ad36155b3688');\n",
              "var x = new MutationObserver(function (mutations, observer) {{\n",
              "        var display = window.getComputedStyle(gd).display;\n",
              "        if (!display || display === 'none') {{\n",
              "            console.log([gd, 'removed!']);\n",
              "            Plotly.purge(gd);\n",
              "            observer.disconnect();\n",
              "        }}\n",
              "}});\n",
              "\n",
              "// Listen for the removal of the full notebook cells\n",
              "var notebookContainer = gd.closest('#notebook-container');\n",
              "if (notebookContainer) {{\n",
              "    x.observe(notebookContainer, {childList: true});\n",
              "}}\n",
              "\n",
              "// Listen for the clearing of the current output cell\n",
              "var outputEl = gd.closest('.output');\n",
              "if (outputEl) {{\n",
              "    x.observe(outputEl, {childList: true});\n",
              "}}\n",
              "\n",
              "                        })                };                            </script>        </div>\n",
              "</body>\n",
              "</html>"
            ]
          },
          "metadata": {}
        }
      ]
    },
    {
      "cell_type": "code",
      "source": [
        "# Scatter Plot with Trendline (Impedance vs. Cycle)\n",
        "import plotly.express as px\n",
        "\n",
        "# Scatter plot with trendline for Battery Impedance vs. Cycle\n",
        "if 'Battery_Impedance' in df.columns:\n",
        "    fig = px.scatter(df, x=\"Cycle\", y=\"Battery_Impedance\",\n",
        "                     title=\"Battery Impedance vs. Cycle\",\n",
        "                     trendline=\"ols\", # Ordinary Least Squares trendline\n",
        "                     labels={\"Cycle\": \"Cycle Number\", \"Battery_Impedance\": \"Impedance (Ohms)\"})\n",
        "    fig.show()\n"
      ],
      "metadata": {
        "id": "S2aZXj4Bg3Zh"
      },
      "execution_count": null,
      "outputs": []
    },
    {
      "cell_type": "code",
      "source": [
        "Seeimport plotly.express as px\n",
        "\n",
        "# Histogram for Battery Impedance\n",
        "if 'Battery_Impedance' in df.columns:\n",
        "    fig = px.histogram(df, x=\"Battery_Impedance\",\n",
        "                       title=\"Distribution of Battery Impedance\",\n",
        "                       labels={\"Battery_Impedance\": \"Battery Impedance (Ohms)\"})\n",
        "    fig.show()\n",
        "\n",
        "# Histogram for Electrolyte Resistance\n",
        "if 'Estimated_Electrolyte_Resistance' in df.columns:\n",
        "    fig = px.histogram(df, x=\"Estimated_Electrolyte_Resistance\",\n",
        "                       title=\"Distribution of Electrolyte Resistance\",\n",
        "                       labels={\"Estimated_Electrolyte_Resistance\": \"Electrolyte Resistance (Ohms)\"})\n",
        "    fig.show()\n",
        "\n",
        "# Histogram for Charge Transfer Resistance\n",
        "if 'Rct_Charge_Transfer_Resistance' in df.columns:\n",
        "    fig = px.histogram(df, x=\"Rct_Charge_Transfer_Resistance\",\n",
        "                       title=\"Distribution of Charge Transfer Resistance\",\n",
        "                       labels={\"Rct_Charge_Transfer_Resistance\": \"Charge Transfer Resistance (Ohms)\"})\n",
        "    fig.show()"
      ],
      "metadata": {
        "id": "TFfZI24hhN0y"
      },
      "execution_count": null,
      "outputs": []
    },
    {
      "cell_type": "code",
      "source": [
        "# Example: Scatter Plot\n",
        "import plotly.express as px\n",
        "\n",
        "# Make sure to use .show() at the end of your figure creation\n",
        "if 'Battery_Impedance' in df.columns:\n",
        "    fig = px.scatter(df, x=\"Cycle\", y=\"Battery_Impedance\", title=\"Battery Impedance vs. Cycle\")\n",
        "    fig.show()  # This line is essential to render the plot"
      ],
      "metadata": {
        "id": "HJG_6ub9hbVz"
      },
      "execution_count": null,
      "outputs": []
    },
    {
      "cell_type": "code",
      "source": [],
      "metadata": {
        "id": "5IAvOgib3mYP"
      },
      "execution_count": null,
      "outputs": []
    },
    {
      "cell_type": "code",
      "source": [
        "import plotly.graph_objects as go\n",
        "import plotly.express as px\n",
        "\n",
        "# Just a simple test plot to check if Plotly is working\n",
        "fig = go.Figure(data=go.Scatter(x=[1, 2, 3], y=[4, 5, 6], mode='lines'))\n",
        "fig.show()"
      ],
      "metadata": {
        "colab": {
          "base_uri": "https://localhost:8080/",
          "height": 542
        },
        "id": "vuTb9EJThoQR",
        "outputId": "aab65671-a11f-453e-ed11-ad6d79d72460"
      },
      "execution_count": null,
      "outputs": [
        {
          "output_type": "display_data",
          "data": {
            "text/html": [
              "<html>\n",
              "<head><meta charset=\"utf-8\" /></head>\n",
              "<body>\n",
              "    <div>            <script src=\"https://cdnjs.cloudflare.com/ajax/libs/mathjax/2.7.5/MathJax.js?config=TeX-AMS-MML_SVG\"></script><script type=\"text/javascript\">if (window.MathJax && window.MathJax.Hub && window.MathJax.Hub.Config) {window.MathJax.Hub.Config({SVG: {font: \"STIX-Web\"}});}</script>                <script type=\"text/javascript\">window.PlotlyConfig = {MathJaxConfig: 'local'};</script>\n",
              "        <script charset=\"utf-8\" src=\"https://cdn.plot.ly/plotly-2.35.2.min.js\"></script>                <div id=\"156db519-10fd-48d7-9a81-82bd4b7c47ae\" class=\"plotly-graph-div\" style=\"height:525px; width:100%;\"></div>            <script type=\"text/javascript\">                                    window.PLOTLYENV=window.PLOTLYENV || {};                                    if (document.getElementById(\"156db519-10fd-48d7-9a81-82bd4b7c47ae\")) {                    Plotly.newPlot(                        \"156db519-10fd-48d7-9a81-82bd4b7c47ae\",                        [{\"mode\":\"lines\",\"x\":[1,2,3],\"y\":[4,5,6],\"type\":\"scatter\"}],                        {\"template\":{\"data\":{\"histogram2dcontour\":[{\"type\":\"histogram2dcontour\",\"colorbar\":{\"outlinewidth\":0,\"ticks\":\"\"},\"colorscale\":[[0.0,\"#0d0887\"],[0.1111111111111111,\"#46039f\"],[0.2222222222222222,\"#7201a8\"],[0.3333333333333333,\"#9c179e\"],[0.4444444444444444,\"#bd3786\"],[0.5555555555555556,\"#d8576b\"],[0.6666666666666666,\"#ed7953\"],[0.7777777777777778,\"#fb9f3a\"],[0.8888888888888888,\"#fdca26\"],[1.0,\"#f0f921\"]]}],\"choropleth\":[{\"type\":\"choropleth\",\"colorbar\":{\"outlinewidth\":0,\"ticks\":\"\"}}],\"histogram2d\":[{\"type\":\"histogram2d\",\"colorbar\":{\"outlinewidth\":0,\"ticks\":\"\"},\"colorscale\":[[0.0,\"#0d0887\"],[0.1111111111111111,\"#46039f\"],[0.2222222222222222,\"#7201a8\"],[0.3333333333333333,\"#9c179e\"],[0.4444444444444444,\"#bd3786\"],[0.5555555555555556,\"#d8576b\"],[0.6666666666666666,\"#ed7953\"],[0.7777777777777778,\"#fb9f3a\"],[0.8888888888888888,\"#fdca26\"],[1.0,\"#f0f921\"]]}],\"heatmap\":[{\"type\":\"heatmap\",\"colorbar\":{\"outlinewidth\":0,\"ticks\":\"\"},\"colorscale\":[[0.0,\"#0d0887\"],[0.1111111111111111,\"#46039f\"],[0.2222222222222222,\"#7201a8\"],[0.3333333333333333,\"#9c179e\"],[0.4444444444444444,\"#bd3786\"],[0.5555555555555556,\"#d8576b\"],[0.6666666666666666,\"#ed7953\"],[0.7777777777777778,\"#fb9f3a\"],[0.8888888888888888,\"#fdca26\"],[1.0,\"#f0f921\"]]}],\"heatmapgl\":[{\"type\":\"heatmapgl\",\"colorbar\":{\"outlinewidth\":0,\"ticks\":\"\"},\"colorscale\":[[0.0,\"#0d0887\"],[0.1111111111111111,\"#46039f\"],[0.2222222222222222,\"#7201a8\"],[0.3333333333333333,\"#9c179e\"],[0.4444444444444444,\"#bd3786\"],[0.5555555555555556,\"#d8576b\"],[0.6666666666666666,\"#ed7953\"],[0.7777777777777778,\"#fb9f3a\"],[0.8888888888888888,\"#fdca26\"],[1.0,\"#f0f921\"]]}],\"contourcarpet\":[{\"type\":\"contourcarpet\",\"colorbar\":{\"outlinewidth\":0,\"ticks\":\"\"}}],\"contour\":[{\"type\":\"contour\",\"colorbar\":{\"outlinewidth\":0,\"ticks\":\"\"},\"colorscale\":[[0.0,\"#0d0887\"],[0.1111111111111111,\"#46039f\"],[0.2222222222222222,\"#7201a8\"],[0.3333333333333333,\"#9c179e\"],[0.4444444444444444,\"#bd3786\"],[0.5555555555555556,\"#d8576b\"],[0.6666666666666666,\"#ed7953\"],[0.7777777777777778,\"#fb9f3a\"],[0.8888888888888888,\"#fdca26\"],[1.0,\"#f0f921\"]]}],\"surface\":[{\"type\":\"surface\",\"colorbar\":{\"outlinewidth\":0,\"ticks\":\"\"},\"colorscale\":[[0.0,\"#0d0887\"],[0.1111111111111111,\"#46039f\"],[0.2222222222222222,\"#7201a8\"],[0.3333333333333333,\"#9c179e\"],[0.4444444444444444,\"#bd3786\"],[0.5555555555555556,\"#d8576b\"],[0.6666666666666666,\"#ed7953\"],[0.7777777777777778,\"#fb9f3a\"],[0.8888888888888888,\"#fdca26\"],[1.0,\"#f0f921\"]]}],\"mesh3d\":[{\"type\":\"mesh3d\",\"colorbar\":{\"outlinewidth\":0,\"ticks\":\"\"}}],\"scatter\":[{\"fillpattern\":{\"fillmode\":\"overlay\",\"size\":10,\"solidity\":0.2},\"type\":\"scatter\"}],\"parcoords\":[{\"type\":\"parcoords\",\"line\":{\"colorbar\":{\"outlinewidth\":0,\"ticks\":\"\"}}}],\"scatterpolargl\":[{\"type\":\"scatterpolargl\",\"marker\":{\"colorbar\":{\"outlinewidth\":0,\"ticks\":\"\"}}}],\"bar\":[{\"error_x\":{\"color\":\"#2a3f5f\"},\"error_y\":{\"color\":\"#2a3f5f\"},\"marker\":{\"line\":{\"color\":\"#E5ECF6\",\"width\":0.5},\"pattern\":{\"fillmode\":\"overlay\",\"size\":10,\"solidity\":0.2}},\"type\":\"bar\"}],\"scattergeo\":[{\"type\":\"scattergeo\",\"marker\":{\"colorbar\":{\"outlinewidth\":0,\"ticks\":\"\"}}}],\"scatterpolar\":[{\"type\":\"scatterpolar\",\"marker\":{\"colorbar\":{\"outlinewidth\":0,\"ticks\":\"\"}}}],\"histogram\":[{\"marker\":{\"pattern\":{\"fillmode\":\"overlay\",\"size\":10,\"solidity\":0.2}},\"type\":\"histogram\"}],\"scattergl\":[{\"type\":\"scattergl\",\"marker\":{\"colorbar\":{\"outlinewidth\":0,\"ticks\":\"\"}}}],\"scatter3d\":[{\"type\":\"scatter3d\",\"line\":{\"colorbar\":{\"outlinewidth\":0,\"ticks\":\"\"}},\"marker\":{\"colorbar\":{\"outlinewidth\":0,\"ticks\":\"\"}}}],\"scattermapbox\":[{\"type\":\"scattermapbox\",\"marker\":{\"colorbar\":{\"outlinewidth\":0,\"ticks\":\"\"}}}],\"scatterternary\":[{\"type\":\"scatterternary\",\"marker\":{\"colorbar\":{\"outlinewidth\":0,\"ticks\":\"\"}}}],\"scattercarpet\":[{\"type\":\"scattercarpet\",\"marker\":{\"colorbar\":{\"outlinewidth\":0,\"ticks\":\"\"}}}],\"carpet\":[{\"aaxis\":{\"endlinecolor\":\"#2a3f5f\",\"gridcolor\":\"white\",\"linecolor\":\"white\",\"minorgridcolor\":\"white\",\"startlinecolor\":\"#2a3f5f\"},\"baxis\":{\"endlinecolor\":\"#2a3f5f\",\"gridcolor\":\"white\",\"linecolor\":\"white\",\"minorgridcolor\":\"white\",\"startlinecolor\":\"#2a3f5f\"},\"type\":\"carpet\"}],\"table\":[{\"cells\":{\"fill\":{\"color\":\"#EBF0F8\"},\"line\":{\"color\":\"white\"}},\"header\":{\"fill\":{\"color\":\"#C8D4E3\"},\"line\":{\"color\":\"white\"}},\"type\":\"table\"}],\"barpolar\":[{\"marker\":{\"line\":{\"color\":\"#E5ECF6\",\"width\":0.5},\"pattern\":{\"fillmode\":\"overlay\",\"size\":10,\"solidity\":0.2}},\"type\":\"barpolar\"}],\"pie\":[{\"automargin\":true,\"type\":\"pie\"}]},\"layout\":{\"autotypenumbers\":\"strict\",\"colorway\":[\"#636efa\",\"#EF553B\",\"#00cc96\",\"#ab63fa\",\"#FFA15A\",\"#19d3f3\",\"#FF6692\",\"#B6E880\",\"#FF97FF\",\"#FECB52\"],\"font\":{\"color\":\"#2a3f5f\"},\"hovermode\":\"closest\",\"hoverlabel\":{\"align\":\"left\"},\"paper_bgcolor\":\"white\",\"plot_bgcolor\":\"#E5ECF6\",\"polar\":{\"bgcolor\":\"#E5ECF6\",\"angularaxis\":{\"gridcolor\":\"white\",\"linecolor\":\"white\",\"ticks\":\"\"},\"radialaxis\":{\"gridcolor\":\"white\",\"linecolor\":\"white\",\"ticks\":\"\"}},\"ternary\":{\"bgcolor\":\"#E5ECF6\",\"aaxis\":{\"gridcolor\":\"white\",\"linecolor\":\"white\",\"ticks\":\"\"},\"baxis\":{\"gridcolor\":\"white\",\"linecolor\":\"white\",\"ticks\":\"\"},\"caxis\":{\"gridcolor\":\"white\",\"linecolor\":\"white\",\"ticks\":\"\"}},\"coloraxis\":{\"colorbar\":{\"outlinewidth\":0,\"ticks\":\"\"}},\"colorscale\":{\"sequential\":[[0.0,\"#0d0887\"],[0.1111111111111111,\"#46039f\"],[0.2222222222222222,\"#7201a8\"],[0.3333333333333333,\"#9c179e\"],[0.4444444444444444,\"#bd3786\"],[0.5555555555555556,\"#d8576b\"],[0.6666666666666666,\"#ed7953\"],[0.7777777777777778,\"#fb9f3a\"],[0.8888888888888888,\"#fdca26\"],[1.0,\"#f0f921\"]],\"sequentialminus\":[[0.0,\"#0d0887\"],[0.1111111111111111,\"#46039f\"],[0.2222222222222222,\"#7201a8\"],[0.3333333333333333,\"#9c179e\"],[0.4444444444444444,\"#bd3786\"],[0.5555555555555556,\"#d8576b\"],[0.6666666666666666,\"#ed7953\"],[0.7777777777777778,\"#fb9f3a\"],[0.8888888888888888,\"#fdca26\"],[1.0,\"#f0f921\"]],\"diverging\":[[0,\"#8e0152\"],[0.1,\"#c51b7d\"],[0.2,\"#de77ae\"],[0.3,\"#f1b6da\"],[0.4,\"#fde0ef\"],[0.5,\"#f7f7f7\"],[0.6,\"#e6f5d0\"],[0.7,\"#b8e186\"],[0.8,\"#7fbc41\"],[0.9,\"#4d9221\"],[1,\"#276419\"]]},\"xaxis\":{\"gridcolor\":\"white\",\"linecolor\":\"white\",\"ticks\":\"\",\"title\":{\"standoff\":15},\"zerolinecolor\":\"white\",\"automargin\":true,\"zerolinewidth\":2},\"yaxis\":{\"gridcolor\":\"white\",\"linecolor\":\"white\",\"ticks\":\"\",\"title\":{\"standoff\":15},\"zerolinecolor\":\"white\",\"automargin\":true,\"zerolinewidth\":2},\"scene\":{\"xaxis\":{\"backgroundcolor\":\"#E5ECF6\",\"gridcolor\":\"white\",\"linecolor\":\"white\",\"showbackground\":true,\"ticks\":\"\",\"zerolinecolor\":\"white\",\"gridwidth\":2},\"yaxis\":{\"backgroundcolor\":\"#E5ECF6\",\"gridcolor\":\"white\",\"linecolor\":\"white\",\"showbackground\":true,\"ticks\":\"\",\"zerolinecolor\":\"white\",\"gridwidth\":2},\"zaxis\":{\"backgroundcolor\":\"#E5ECF6\",\"gridcolor\":\"white\",\"linecolor\":\"white\",\"showbackground\":true,\"ticks\":\"\",\"zerolinecolor\":\"white\",\"gridwidth\":2}},\"shapedefaults\":{\"line\":{\"color\":\"#2a3f5f\"}},\"annotationdefaults\":{\"arrowcolor\":\"#2a3f5f\",\"arrowhead\":0,\"arrowwidth\":1},\"geo\":{\"bgcolor\":\"white\",\"landcolor\":\"#E5ECF6\",\"subunitcolor\":\"white\",\"showland\":true,\"showlakes\":true,\"lakecolor\":\"white\"},\"title\":{\"x\":0.05},\"mapbox\":{\"style\":\"light\"}}}},                        {\"responsive\": true}                    ).then(function(){\n",
              "                            \n",
              "var gd = document.getElementById('156db519-10fd-48d7-9a81-82bd4b7c47ae');\n",
              "var x = new MutationObserver(function (mutations, observer) {{\n",
              "        var display = window.getComputedStyle(gd).display;\n",
              "        if (!display || display === 'none') {{\n",
              "            console.log([gd, 'removed!']);\n",
              "            Plotly.purge(gd);\n",
              "            observer.disconnect();\n",
              "        }}\n",
              "}});\n",
              "\n",
              "// Listen for the removal of the full notebook cells\n",
              "var notebookContainer = gd.closest('#notebook-container');\n",
              "if (notebookContainer) {{\n",
              "    x.observe(notebookContainer, {childList: true});\n",
              "}}\n",
              "\n",
              "// Listen for the clearing of the current output cell\n",
              "var outputEl = gd.closest('.output');\n",
              "if (outputEl) {{\n",
              "    x.observe(outputEl, {childList: true});\n",
              "}}\n",
              "\n",
              "                        })                };                            </script>        </div>\n",
              "</body>\n",
              "</html>"
            ]
          },
          "metadata": {}
        }
      ]
    },
    {
      "cell_type": "code",
      "source": [
        "# Check the columns in the dataframe\n",
        "print(\"Columns in the dataset:\", df.columns)\n"
      ],
      "metadata": {
        "colab": {
          "base_uri": "https://localhost:8080/"
        },
        "id": "GWsRFsXChyf_",
        "outputId": "41ab4d25-dd97-4806-a75d-0c172009788d"
      },
      "execution_count": null,
      "outputs": [
        {
          "output_type": "stream",
          "name": "stdout",
          "text": [
            "Columns in the dataset: Index(['Sense_current', 'Battery_current', 'Current_ratio',\n",
            "       'Battery_impedance', 'Rectified_Impedance'],\n",
            "      dtype='object')\n"
          ]
        }
      ]
    }
  ]
}